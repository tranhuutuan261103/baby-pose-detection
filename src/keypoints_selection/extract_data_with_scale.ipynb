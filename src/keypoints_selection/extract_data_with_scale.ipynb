{
 "cells": [
  {
   "cell_type": "code",
   "execution_count": 29,
   "metadata": {},
   "outputs": [
    {
     "name": "stdout",
     "output_type": "stream",
     "text": [
      "The autoreload extension is already loaded. To reload it, use:\n",
      "  %reload_ext autoreload\n"
     ]
    }
   ],
   "source": [
    "# Thêm autoreload vào để tự động reload lại module nếu có thay đổi code trong module\n",
    "%load_ext autoreload\n",
    "%autoreload 2\n",
    "\n",
    "import mediapipe as mp\n",
    "import cv2\n",
    "from PIL import Image\n",
    "import numpy as np\n",
    "import pandas as pd\n",
    "import matplotlib.pyplot as plt\n",
    "import seaborn as sns\n",
    "import os, sys\n",
    "import warnings\n",
    "\n",
    "# Thêm đường dẫn dẫn đến thư mục cha\n",
    "sys.path.append(os.path.abspath(\"..\"))\n",
    "warnings.filterwarnings(\"ignore\")\n",
    "\n",
    "# Drawing helpers\n",
    "mp_drawing = mp.solutions.drawing_utils\n",
    "mp_pose = mp.solutions.pose"
   ]
  },
  {
   "cell_type": "code",
   "execution_count": 30,
   "metadata": {},
   "outputs": [],
   "source": [
    "IMPORTANT_LMS = [\n",
    "    \"nose\",\n",
    "    \"left_shoulder\",\n",
    "    \"right_shoulder\",\n",
    "    \"left_elbow\",\n",
    "    \"right_elbow\",\n",
    "    \"left_pinky\",\n",
    "    \"right_pinky\",\n",
    "    \"left_index\",\n",
    "    \"right_index\",\n",
    "    \"left_hip\",\n",
    "    \"right_hip\",\n",
    "    \"left_knee\",\n",
    "    \"right_knee\",\n",
    "    \"left_foot_index\",\n",
    "    \"right_foot_index\",\n",
    "]"
   ]
  },
  {
   "cell_type": "code",
   "execution_count": 31,
   "metadata": {},
   "outputs": [],
   "source": [
    "def square_for_image(path: str):\n",
    "    # Đọc hình ảnh gốc\n",
    "    image_path = path  # Thay bằng đường dẫn đến hình ảnh của bạn\n",
    "    original_image = Image.open(image_path)\n",
    "\n",
    "    # Kích thước ảnh gốc và ảnh mới\n",
    "    original_size = original_image.size\n",
    "\n",
    "    # Kích thước ảnh mới sẽ là kích thước lớn nhất của ảnh gốc\n",
    "    max_width = max(original_size)\n",
    "\n",
    "    new_size = (max_width, max_width)\n",
    "\n",
    "    # Tạo một ảnh mới với nền đen\n",
    "    new_image = Image.new(\"RGB\", new_size, (0, 0, 0))\n",
    "\n",
    "    # Dán ảnh gốc vào ảnh mới với khoảng trống màu đen\n",
    "    new_image.paste(original_image, \n",
    "                    ((max_width - original_size[0]) // 2, (max_width - original_size[1]) // 2))\n",
    "\n",
    "    # convert new_image to cv2 format\n",
    "    new_image_cv2 = cv2.cvtColor(np.array(new_image), cv2.COLOR_RGB2BGR)\n",
    "\n",
    "    return new_image_cv2"
   ]
  },
  {
   "cell_type": "code",
   "execution_count": 32,
   "metadata": {},
   "outputs": [],
   "source": [
    "def draw_landmarks(mp_drawing, mp_pose, image : cv2, pose_landmarks : np.array):\n",
    "    \"\"\"\n",
    "    Vẽ landmarks lên ảnh\n",
    "    \"\"\"\n",
    "    mp_drawing.draw_landmarks(\n",
    "        image,\n",
    "        pose_landmarks,\n",
    "        mp_pose.POSE_CONNECTIONS,\n",
    "        landmark_drawing_spec=mp_drawing.DrawingSpec(\n",
    "            color=(255, 0, 0),  # Màu sắc của các landmark\n",
    "            thickness=5,  # Độ dày của các đường nối landmark\n",
    "            circle_radius=5,  # Bán kính của các điểm landmark\n",
    "        ),\n",
    "        connection_drawing_spec=mp_drawing.DrawingSpec(\n",
    "            color=(0, 255, 0),  # Màu sắc của các đường nối\n",
    "            thickness=5,  # Độ dày của các đường nối\n",
    "        ),\n",
    "    )"
   ]
  },
  {
   "cell_type": "code",
   "execution_count": 33,
   "metadata": {},
   "outputs": [],
   "source": [
    "def extract_key_points_from_image(\n",
    "    image_path: str, label: str, output_file: str, is_draw_landmarks=False\n",
    "):\n",
    "    # Khởi tạo MediaPipe Pose\n",
    "    mp_pose = mp.solutions.pose\n",
    "    pose = mp_pose.Pose(\n",
    "        static_image_mode=True, model_complexity=1, smooth_landmarks=True\n",
    "    )\n",
    "\n",
    "    image = square_for_image(image_path)\n",
    "\n",
    "    image_rgb = cv2.cvtColor(image, cv2.COLOR_BGR2RGB)\n",
    "\n",
    "    # Phát hiện pose\n",
    "    results = pose.process(image_rgb)\n",
    "\n",
    "    if results.pose_landmarks:\n",
    "        if is_draw_landmarks:\n",
    "            draw_landmarks(mp_drawing, mp_pose, image, results.pose_landmarks)\n",
    "            last_dot_index = image_path.rfind(\".\")\n",
    "            image_path_output = image_path[:last_dot_index] + \"_landmarks\" + image_path[last_dot_index:]\n",
    "            cv2.imwrite(image_path_output, image) # Lưu ảnh đã vẽ landmark\n",
    "\n",
    "        # Lưu lại toạ độ các key points sau khi dịch chuyển vào csv\n",
    "        columns_name = [\"label\"]\n",
    "        columns_value = [label]\n",
    "        for id, landmark in enumerate(results.pose_landmarks.landmark):\n",
    "            land_mark_name = mp_pose.PoseLandmark(id).name.lower()\n",
    "            \n",
    "            columns_name += [\n",
    "                f\"{ land_mark_name }_x\",\n",
    "                f\"{ land_mark_name }_y\",\n",
    "                f\"{ land_mark_name }_z\",\n",
    "            ]\n",
    "\n",
    "            # landmark.x, landmark.y là các giá trị trước khi dịch chuyển gốc toạ độ vào giữa bức hình\n",
    "            # Do đó khi đưa gốc toạ độ về giữa bức hình thì phải trừ chúng cho 0.5\n",
    "            columns_value += [\n",
    "                landmark.x - 0.5,\n",
    "                landmark.y - 0.5,\n",
    "                landmark.z,\n",
    "            ]\n",
    "\n",
    "        df_key_points = pd.DataFrame([columns_value], columns=columns_name)\n",
    "\n",
    "        left_hip = (df_key_points[\"left_hip_x\"], df_key_points[\"left_hip_y\"])\n",
    "        right_hip = (df_key_points[\"right_hip_x\"], df_key_points[\"right_hip_y\"])\n",
    "\n",
    "        center_hip = ((left_hip[0] + right_hip[0]) / 2, (left_hip[1] + right_hip[1]) / 2)\n",
    "\n",
    "        nose = (df_key_points[\"nose_x\"], df_key_points[\"nose_y\"])\n",
    "\n",
    "\n",
    "        # distance between left hip and right hip\n",
    "        distance = np.sqrt((center_hip[0] - nose[0])**2 + (center_hip[1] - nose[1])**2)\n",
    "\n",
    "        scale_value = 0.5 / distance\n",
    "\n",
    "        # Scale all key points\n",
    "        for id, landmark in enumerate(results.pose_landmarks.landmark):\n",
    "            land_mark_name = mp_pose.PoseLandmark(id).name.lower()\n",
    "\n",
    "            df_key_points[f\"{ land_mark_name }_x\"] = df_key_points[f\"{ land_mark_name }_x\"] * scale_value\n",
    "            df_key_points[f\"{ land_mark_name }_y\"] = df_key_points[f\"{ land_mark_name }_y\"] * scale_value\n",
    "\n",
    "        # skip key points that are not important\n",
    "        df_key_points = df_key_points[[\"label\"] + [f\"{landmark}_x\" for landmark in IMPORTANT_LMS] + [f\"{landmark}_y\" for landmark in IMPORTANT_LMS] + [f\"{landmark}_z\" for landmark in IMPORTANT_LMS]]\n",
    "\n",
    "        with open(output_file, \"a\") as f:\n",
    "            # header=f.tell()==0 sẽ ghi tiêu đề nếu file trống\n",
    "            df_key_points.to_csv(f, header=f.tell() == 0, index=False)\n",
    "        \n",
    "    else:\n",
    "        print(f\"Cannot detect pose in image {image_path}\")\n",
    "\n",
    "    pose.close()"
   ]
  },
  {
   "cell_type": "code",
   "execution_count": 34,
   "metadata": {},
   "outputs": [],
   "source": [
    "def auto_label_from_folder(folder_path: str, output_file: str, label: str = None):\n",
    "    \"\"\"\n",
    "    Tự động gán nhãn cho các ảnh trong thư mục\n",
    "    \"\"\" \n",
    "    # Traverse the folder and process each file\n",
    "    for root, _, files in os.walk(folder_path):\n",
    "        print(f\"Processing folder {root}\")\n",
    "        for file in files:\n",
    "            file_path = os.path.join(root, file)\n",
    "            label = label if label else os.path.basename(root)\n",
    "            extract_key_points_from_image(file_path, label, output_file)"
   ]
  },
  {
   "cell_type": "code",
   "execution_count": 35,
   "metadata": {},
   "outputs": [],
   "source": [
    "output_csv = \"../../data/key_points_with_scale_zip.csv\""
   ]
  },
  {
   "cell_type": "code",
   "execution_count": 36,
   "metadata": {},
   "outputs": [
    {
     "name": "stdout",
     "output_type": "stream",
     "text": [
      "Processing folder ../../data/1_lie_on\n",
      "Cannot detect pose in image ../../data/1_lie_on\\155.jpg\n",
      "Cannot detect pose in image ../../data/1_lie_on\\57.jpg\n",
      "Processing folder ../../data/2_side\n",
      "Cannot detect pose in image ../../data/2_side\\132.jpg\n",
      "Cannot detect pose in image ../../data/2_side\\52.jpg\n",
      "Cannot detect pose in image ../../data/2_side\\664.jpg\n",
      "Cannot detect pose in image ../../data/2_side\\99.jpg\n",
      "Processing folder ../../data/3_procumbent\n",
      "Cannot detect pose in image ../../data/3_procumbent\\101.jpg\n",
      "Cannot detect pose in image ../../data/3_procumbent\\104.jpg\n",
      "Cannot detect pose in image ../../data/3_procumbent\\129.jpg\n",
      "Cannot detect pose in image ../../data/3_procumbent\\130.jpg\n",
      "Cannot detect pose in image ../../data/3_procumbent\\136.jpg\n",
      "Cannot detect pose in image ../../data/3_procumbent\\144.jpg\n",
      "Cannot detect pose in image ../../data/3_procumbent\\147.jpg\n",
      "Cannot detect pose in image ../../data/3_procumbent\\16.jpg\n",
      "Cannot detect pose in image ../../data/3_procumbent\\2.jpg\n",
      "Cannot detect pose in image ../../data/3_procumbent\\3.jpg\n",
      "Cannot detect pose in image ../../data/3_procumbent\\52.jpg\n",
      "Cannot detect pose in image ../../data/3_procumbent\\57.jpg\n",
      "Cannot detect pose in image ../../data/3_procumbent\\69.jpg\n",
      "Cannot detect pose in image ../../data/3_procumbent\\76.jpg\n",
      "Cannot detect pose in image ../../data/3_procumbent\\80.jpg\n"
     ]
    }
   ],
   "source": [
    "auto_label_from_folder(\"../../data/1_lie_on\", output_csv)\n",
    "\n",
    "auto_label_from_folder(\"../../data/2_side\", output_csv)\n",
    "\n",
    "auto_label_from_folder(\"../../data/3_procumbent\", output_csv)"
   ]
  },
  {
   "cell_type": "code",
   "execution_count": 37,
   "metadata": {},
   "outputs": [],
   "source": [
    "df = pd.read_csv(output_csv)"
   ]
  },
  {
   "cell_type": "code",
   "execution_count": 38,
   "metadata": {},
   "outputs": [
    {
     "data": {
      "text/plain": [
       "<Axes: xlabel='label', ylabel='count'>"
      ]
     },
     "execution_count": 38,
     "metadata": {},
     "output_type": "execute_result"
    },
    {
     "data": {
      "image/png": "[encoded data removed]",
      "text/plain": [
       "<Figure size 640x480 with 1 Axes>"
      ]
     },
     "metadata": {},
     "output_type": "display_data"
    }
   ],
   "source": [
    "sns.countplot(data=df, x=\"label\", palette=\"Set1\")"
   ]
  }
 ],
 "metadata": {
  "kernelspec": {
   "display_name": ".venv",
   "language": "python",
   "name": "python3"
  },
  "language_info": {
   "codemirror_mode": {
    "name": "ipython",
    "version": 3
   },
   "file_extension": ".py",
   "mimetype": "text/x-python",
   "name": "python",
   "nbconvert_exporter": "python",
   "pygments_lexer": "ipython3",
   "version": "3.11.3"
  }
 },
 "nbformat": 4,
 "nbformat_minor": 2
}
