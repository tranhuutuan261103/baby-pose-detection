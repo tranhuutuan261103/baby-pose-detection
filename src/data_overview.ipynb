{
 "cells": [
  {
   "cell_type": "code",
   "execution_count": 8,
   "metadata": {},
   "outputs": [],
   "source": [
    "import os\n",
    "import pandas as pd\n",
    "import seaborn as sns\n",
    "import matplotlib.pyplot as plt"
   ]
  },
  {
   "cell_type": "markdown",
   "metadata": {},
   "source": [
    "# 1. Pose"
   ]
  },
  {
   "cell_type": "code",
   "execution_count": 9,
   "metadata": {},
   "outputs": [],
   "source": [
    "def image_count_in_folder(folder : str) -> int:\n",
    "    return len([name for name in os.listdir(folder) if os.path.isfile(os.path.join(folder, name))])"
   ]
  },
  {
   "cell_type": "code",
   "execution_count": 10,
   "metadata": {},
   "outputs": [
    {
     "data": {
      "text/plain": [
       "156"
      ]
     },
     "execution_count": 10,
     "metadata": {},
     "output_type": "execute_result"
    }
   ],
   "source": [
    "image_count_in_folder('../data/1_lie_on')"
   ]
  },
  {
   "cell_type": "code",
   "execution_count": 11,
   "metadata": {},
   "outputs": [],
   "source": [
    "data_1_lie_on_count = image_count_in_folder('../data/1_lie_on')\n",
    "data_2_side_count = image_count_in_folder('../data/2_side')\n",
    "data_3_procumbent_count = image_count_in_folder('../data/3_procumbent')\n",
    "\n",
    "data = {\n",
    "    'Nằm ngửa': data_1_lie_on_count,\n",
    "    'Nằm nghiêng về 1 bên': data_2_side_count,\n",
    "    'Nằm sấp': data_3_procumbent_count\n",
    "}\n",
    "\n",
    "df = pd.DataFrame(data, index=[0])"
   ]
  },
  {
   "cell_type": "code",
   "execution_count": 12,
   "metadata": {},
   "outputs": [
    {
     "data": {
      "text/plain": [
       "<Axes: >"
      ]
     },
     "execution_count": 12,
     "metadata": {},
     "output_type": "execute_result"
    },
    {
     "data": {
      "image/png": "[encoded data removed]",
      "text/plain": [
       "<Figure size 640x480 with 1 Axes>"
      ]
     },
     "metadata": {},
     "output_type": "display_data"
    }
   ],
   "source": [
    "sns.barplot(data=df)"
   ]
  },
  {
   "cell_type": "markdown",
   "metadata": {},
   "source": [
    "# 2. Infant cry"
   ]
  },
  {
   "cell_type": "code",
   "execution_count": 13,
   "metadata": {},
   "outputs": [],
   "source": [
    "import wave\n",
    "import contextlib"
   ]
  },
  {
   "cell_type": "code",
   "execution_count": 14,
   "metadata": {},
   "outputs": [],
   "source": [
    "# lấy ra danh sách các file audio trong thư mục\n",
    "def get_files_in_folder(folder: str) -> list:\n",
    "    return [f for f in os.listdir(folder) if os.path.isfile(os.path.join(folder, f))]"
   ]
  },
  {
   "cell_type": "code",
   "execution_count": 15,
   "metadata": {},
   "outputs": [],
   "source": [
    "def get_duration_of_audio_file(file: str) -> float:\n",
    "    with contextlib.closing(wave.open(file,'r')) as f:\n",
    "        frames = f.getnframes()\n",
    "        rate = f.getframerate()\n",
    "        duration = frames / float(rate)\n",
    "        return duration"
   ]
  },
  {
   "cell_type": "code",
   "execution_count": 16,
   "metadata": {},
   "outputs": [],
   "source": [
    "for file in get_files_in_folder('../data/infant_cry_audio/belly_pain'):\n",
    "    file_name = os.path.join('../data/infant_cry_audio/belly_pain', file)\n",
    "    with contextlib.closing(wave.open(file_name,'r')) as f:\n",
    "        frames = f.getnframes()\n",
    "        rate = f.getframerate()\n",
    "        duration = frames / float(rate)"
   ]
  },
  {
   "cell_type": "code",
   "execution_count": 17,
   "metadata": {},
   "outputs": [],
   "source": [
    "def get_duration_of_audio_files(folder: str, files: list) -> float:\n",
    "    duration = 0\n",
    "    for file in files:\n",
    "        file_name = os.path.join(folder, file)\n",
    "        with contextlib.closing(wave.open(file_name,'r')) as f:\n",
    "            frames = f.getnframes()\n",
    "            rate = f.getframerate()\n",
    "            duration += frames / float(rate)\n",
    "\n",
    "    return duration"
   ]
  },
  {
   "cell_type": "code",
   "execution_count": 18,
   "metadata": {},
   "outputs": [],
   "source": [
    "belly_pain_duration = get_duration_of_audio_files('../data/infant_cry_audio/belly_pain', get_files_in_folder('../data/infant_cry_audio/belly_pain'))\n",
    "burping_duration = get_duration_of_audio_files('../data/infant_cry_audio/burping', get_files_in_folder('../data/infant_cry_audio/burping'))\n",
    "discomfort_duration = get_duration_of_audio_files('../data/infant_cry_audio/discomfort', get_files_in_folder('../data/infant_cry_audio/discomfort'))\n",
    "hungry_duration = get_duration_of_audio_files('../data/infant_cry_audio/hungry', get_files_in_folder('../data/infant_cry_audio/hungry'))\n",
    "tired_duration = get_duration_of_audio_files('../data/infant_cry_audio/tired', get_files_in_folder('../data/infant_cry_audio/tired'))\n"
   ]
  },
  {
   "cell_type": "code",
   "execution_count": 19,
   "metadata": {},
   "outputs": [
    {
     "data": {
      "text/plain": [
       "111.22"
      ]
     },
     "execution_count": 19,
     "metadata": {},
     "output_type": "execute_result"
    }
   ],
   "source": [
    "belly_pain_duration"
   ]
  },
  {
   "cell_type": "code",
   "execution_count": 20,
   "metadata": {},
   "outputs": [],
   "source": [
    "infant_cry_audio_df = pd.DataFrame({\n",
    "    'Đau bụng': belly_pain_duration,\n",
    "    'Ợ hơi': burping_duration,\n",
    "    'Khó chịu': discomfort_duration,\n",
    "    'Đói': hungry_duration,\n",
    "    'Mệt mỏi': tired_duration\n",
    "}, index=[0])"
   ]
  },
  {
   "cell_type": "code",
   "execution_count": 21,
   "metadata": {},
   "outputs": [
    {
     "data": {
      "image/png": "[encoded data removed]",
      "text/plain": [
       "<Figure size 640x480 with 1 Axes>"
      ]
     },
     "metadata": {},
     "output_type": "display_data"
    }
   ],
   "source": [
    "sns.barplot(data=infant_cry_audio_df)  # Chỉnh lại tên cột cho phù hợp\n",
    "\n",
    "# Thêm nhãn cho trục y\n",
    "plt.ylabel('s')  # Thay \"Tên nhãn trục y\" bằng tên nhãn bạn muốn đặt\n",
    "\n",
    "# Hiển thị biểu đồ\n",
    "plt.show()"
   ]
  }
 ],
 "metadata": {
  "kernelspec": {
   "display_name": ".venv",
   "language": "python",
   "name": "python3"
  },
  "language_info": {
   "codemirror_mode": {
    "name": "ipython",
    "version": 3
   },
   "file_extension": ".py",
   "mimetype": "text/x-python",
   "name": "python",
   "nbconvert_exporter": "python",
   "pygments_lexer": "ipython3",
   "version": "3.11.3"
  }
 },
 "nbformat": 4,
 "nbformat_minor": 2
}
