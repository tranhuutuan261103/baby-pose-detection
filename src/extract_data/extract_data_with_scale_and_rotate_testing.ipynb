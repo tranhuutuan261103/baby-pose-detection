{
 "cells": [
  {
   "cell_type": "code",
   "execution_count": 14,
   "metadata": {},
   "outputs": [
    {
     "name": "stdout",
     "output_type": "stream",
     "text": [
      "The autoreload extension is already loaded. To reload it, use:\n",
      "  %reload_ext autoreload\n"
     ]
    }
   ],
   "source": [
    "# Thêm autoreload vào để tự động reload lại module nếu có thay đổi code trong module\n",
    "%load_ext autoreload\n",
    "%autoreload 2\n",
    "\n",
    "import mediapipe as mp\n",
    "import cv2\n",
    "from PIL import Image\n",
    "import numpy as np\n",
    "import pandas as pd\n",
    "import matplotlib.pyplot as plt\n",
    "import seaborn as sns\n",
    "import os, sys\n",
    "import warnings\n",
    "\n",
    "# Thêm đường dẫn dẫn đến thư mục cha\n",
    "sys.path.append(os.path.abspath(\"..\"))\n",
    "warnings.filterwarnings(\"ignore\")\n",
    "\n",
    "# Drawing helpers\n",
    "mp_drawing = mp.solutions.drawing_utils\n",
    "mp_pose = mp.solutions.pose"
   ]
  },
  {
   "cell_type": "code",
   "execution_count": 15,
   "metadata": {},
   "outputs": [],
   "source": [
    "# IMPORTANT_LMS = [\n",
    "#     \"nose\",\n",
    "#     \"left_eye_inner\",\n",
    "#     \"left_eye\",\n",
    "#     \"left_eye_outer\",\n",
    "#     \"right_eye_inner\",\n",
    "#     \"right_eye\",\n",
    "#     \"right_eye_outer\",\n",
    "#     \"left_ear\",\n",
    "#     \"right_ear\",\n",
    "#     \"mouth_left\",\n",
    "#     \"mouth_right\",\n",
    "#     \"left_shoulder\",\n",
    "#     \"right_shoulder\",\n",
    "#     \"left_elbow\",\n",
    "#     \"right_elbow\",\n",
    "#     \"left_wrist\",\n",
    "#     \"right_wrist\",\n",
    "#     \"left_pinky\",\n",
    "#     \"right_pinky\",\n",
    "#     \"left_index\",\n",
    "#     \"right_index\",\n",
    "#     \"left_thumb\",\n",
    "#     \"right_thumb\",\n",
    "#     \"left_hip\",\n",
    "#     \"right_hip\",\n",
    "#     \"left_knee\",\n",
    "#     \"right_knee\",\n",
    "#     \"left_ankle\",\n",
    "#     \"right_ankle\",\n",
    "#     \"left_heel\",\n",
    "#     \"right_heel\",\n",
    "#     \"left_foot_index\",\n",
    "#     \"right_foot_index\",\n",
    "# ]\n",
    "\n",
    "\n",
    "IMPORTANT_LMS = [\n",
    "    \"nose\",\n",
    "    \"left_shoulder\",\n",
    "    \"right_shoulder\",\n",
    "    \"left_elbow\",\n",
    "    \"right_elbow\",\n",
    "    \"left_pinky\",\n",
    "    \"right_pinky\",\n",
    "    \"left_index\",\n",
    "    \"right_index\",\n",
    "    \"left_hip\",\n",
    "    \"right_hip\",\n",
    "    \"left_knee\",\n",
    "    \"right_knee\",\n",
    "    \"left_foot_index\",\n",
    "    \"right_foot_index\",\n",
    "]"
   ]
  },
  {
   "cell_type": "markdown",
   "metadata": {},
   "source": [
    "# Scale support"
   ]
  },
  {
   "cell_type": "code",
   "execution_count": 16,
   "metadata": {},
   "outputs": [],
   "source": [
    "def square_for_image(path: str):\n",
    "    # Đọc hình ảnh gốc\n",
    "    image_path = path  # Thay bằng đường dẫn đến hình ảnh của bạn\n",
    "    original_image = Image.open(image_path)\n",
    "\n",
    "    # Kích thước ảnh gốc và ảnh mới\n",
    "    original_size = original_image.size\n",
    "\n",
    "    # Kích thước ảnh mới sẽ là kích thước lớn nhất của ảnh gốc\n",
    "    max_width = max(original_size)\n",
    "\n",
    "    new_size = (max_width, max_width)\n",
    "\n",
    "    # Tạo một ảnh mới với nền đen\n",
    "    new_image = Image.new(\"RGB\", new_size, (0, 0, 0))\n",
    "\n",
    "    # Dán ảnh gốc vào ảnh mới với khoảng trống màu đen\n",
    "    new_image.paste(original_image, \n",
    "                    ((max_width - original_size[0]) // 2, (max_width - original_size[1]) // 2))\n",
    "\n",
    "    # convert new_image to cv2 format\n",
    "    new_image_cv2 = cv2.cvtColor(np.array(new_image), cv2.COLOR_RGB2BGR)\n",
    "\n",
    "    return new_image_cv2, new_size"
   ]
  },
  {
   "cell_type": "markdown",
   "metadata": {},
   "source": [
    "# Rotation support"
   ]
  },
  {
   "cell_type": "code",
   "execution_count": 17,
   "metadata": {},
   "outputs": [],
   "source": [
    "def calculate_phase_difference(OA: tuple, OB: tuple) -> float:\n",
    "    \"\"\"\n",
    "    Calculate the phase difference (in degrees) of vector OB relative to vector OA.\n",
    "    :param OA: A tuple representing the first vector (OA).\n",
    "    :param OB: A tuple representing the second vector (OB).\n",
    "    :return: Phase difference in degrees from 0 to 360.\n",
    "    \"\"\"\n",
    "    # Calculate the dot product and magnitudes\n",
    "    dot_product = OA[0] * OB[0] + OA[1] * OB[1]\n",
    "    norm_OA = np.sqrt(OA[0] ** 2 + OA[1] ** 2)\n",
    "    norm_OB = np.sqrt(OB[0] ** 2 + OB[1] ** 2)\n",
    "\n",
    "    # Calculate the cosine of the angle\n",
    "    cos_theta = dot_product / (norm_OA * norm_OB)\n",
    "    \n",
    "    # Ensure the value is within the valid range for arccos due to floating-point errors\n",
    "    cos_theta = np.clip(cos_theta, -1, 1)\n",
    "    \n",
    "    # Calculate the angle in radians\n",
    "    theta = np.arccos(cos_theta)\n",
    "    \n",
    "    # Calculate the cross product (only the z-component for 2D vectors)\n",
    "    cross_product = OA[0] * OB[1] - OA[1] * OB[0]\n",
    "    \n",
    "    # Adjust the angle based on the direction\n",
    "    if cross_product < 0:\n",
    "        theta = 2 * np.pi - theta\n",
    "\n",
    "    # Convert the angle to degrees\n",
    "    theta_degrees = np.degrees(theta)\n",
    "\n",
    "    return theta_degrees"
   ]
  },
  {
   "cell_type": "code",
   "execution_count": 18,
   "metadata": {},
   "outputs": [],
   "source": [
    "def rotate_point(point: tuple, center: tuple, angle: float, origin_size = (612, 408)) -> tuple:\n",
    "    x, y = point\n",
    "    cx, cy = center\n",
    "\n",
    "    x_new = (x - cx) * np.cos(np.radians(angle)) * origin_size[0] - (y - cy) * np.sin(np.radians(angle)) * origin_size[1] + cx * origin_size[0]\n",
    "    y_new = (x - cx) * np.sin(np.radians(angle)) * origin_size[0] + (y - cy) * np.cos(np.radians(angle)) * origin_size[1] + cy * origin_size[1]\n",
    "\n",
    "    return x_new / origin_size[0], y_new / origin_size[1]"
   ]
  },
  {
   "cell_type": "code",
   "execution_count": 19,
   "metadata": {},
   "outputs": [],
   "source": [
    "def rotate_keypoints(keypoints, image_path: str, origin_size = (612, 408)) -> np.array:\n",
    "    left_shoulder = keypoints.landmark[11]\n",
    "    right_shoulder = keypoints.landmark[12]\n",
    "    left_hip = keypoints.landmark[23]\n",
    "    right_hip = keypoints.landmark[24]\n",
    "\n",
    "    center_shoulder = (left_shoulder.x + right_shoulder.x) / 2, (left_shoulder.y + right_shoulder.y) / 2\n",
    "    center_hip = (left_hip.x + right_hip.x) / 2, (left_hip.y + right_hip.y) / 2\n",
    "\n",
    "    center = (center_shoulder[0] + center_hip[0]) / 2, (center_shoulder[1] + center_hip[1]) / 2\n",
    "\n",
    "    O_center_shoulder = (center_shoulder[0] - center[0], center_shoulder[1] - center[1])\n",
    "    Oy = (0, -1)\n",
    "\n",
    "    theta = calculate_phase_difference(O_center_shoulder, Oy)\n",
    "\n",
    "    # rotate each key point\n",
    "    for point in keypoints.landmark:\n",
    "        point_rotated = rotate_point((point.x, point.y), center, theta, origin_size)\n",
    "        point.x = point_rotated[0]\n",
    "        point.y = point_rotated[1]\n",
    "\n",
    "    return keypoints"
   ]
  },
  {
   "cell_type": "code",
   "execution_count": 20,
   "metadata": {},
   "outputs": [],
   "source": [
    "def find_center_of_mass(df_key_points):\n",
    "    left_hip = (df_key_points[\"left_hip_x\"], df_key_points[\"left_hip_y\"])\n",
    "    right_hip = (df_key_points[\"right_hip_x\"], df_key_points[\"right_hip_y\"])\n",
    "    \n",
    "    # Find the center of the hips\n",
    "    center_hip = ((left_hip[0] + right_hip[0]) / 2, (left_hip[1] + right_hip[1]) / 2)\n",
    "\n",
    "    # Get the sholder coordinates\n",
    "    left_shoulder = (df_key_points[\"left_shoulder_x\"], df_key_points[\"left_shoulder_y\"])\n",
    "    right_shoulder = (df_key_points[\"right_shoulder_x\"], df_key_points[\"right_shoulder_y\"])\n",
    "\n",
    "    center_shoulder = ((left_shoulder[0] + right_shoulder[0]) / 2, (left_shoulder[1] + right_shoulder[1]) / 2)\n",
    "\n",
    "    return (center_hip[0] + center_shoulder[0]) / 2, (center_hip[1] + center_shoulder[1]) / 2\n",
    "\n",
    "def process_image(image_path):\n",
    "    \"\"\"Load and pre-process the image.\"\"\"\n",
    "    image, new_size = square_for_image(image_path)\n",
    "    return cv2.cvtColor(image, cv2.COLOR_BGR2RGB), new_size\n",
    "\n",
    "def calculate_scale_value(df_key_points):\n",
    "    \"\"\"Calculate the scale value based on nose and hip points.\"\"\"\n",
    "    left_hip = (df_key_points[\"left_hip_x\"], df_key_points[\"left_hip_y\"])\n",
    "    right_hip = (df_key_points[\"right_hip_x\"], df_key_points[\"right_hip_y\"])\n",
    "    \n",
    "    # Find the center of the hips\n",
    "    center_hip = ((left_hip[0] + right_hip[0]) / 2, (left_hip[1] + right_hip[1]) / 2)\n",
    "\n",
    "    # Get the sholder coordinates\n",
    "    left_shoulder = (df_key_points[\"left_shoulder_x\"], df_key_points[\"left_shoulder_y\"])\n",
    "    right_shoulder = (df_key_points[\"right_shoulder_x\"], df_key_points[\"right_shoulder_y\"])\n",
    "\n",
    "    center_shoulder = ((left_shoulder[0] + right_shoulder[0]) / 2, (left_shoulder[1] + right_shoulder[1]) / 2)\n",
    "\n",
    "    # Calculate the distance between nose and center of the hips\n",
    "    distance = np.sqrt((center_hip[0] - center_shoulder[0])**2 + (center_hip[1] - center_shoulder[1])**2)\n",
    "\n",
    "    # Scale value based on distance\n",
    "    return 0.5 / distance\n",
    "\n",
    "def scale_keypoints(df_key_points, scale_value):\n",
    "    \"\"\"Scale all key points based on the calculated scale value.\"\"\"\n",
    "    for landmark in IMPORTANT_LMS:\n",
    "        df_key_points[f\"{landmark}_x\"] *= scale_value\n",
    "        df_key_points[f\"{landmark}_y\"] *= scale_value\n",
    "    return df_key_points\n",
    "\n",
    "def save_keypoints_to_csv(df_key_points, output_file):\n",
    "    \"\"\"Save keypoints to CSV file.\"\"\"\n",
    "    with open(output_file, \"a\") as f:\n",
    "        df_key_points.to_csv(f, header=f.tell() == 0, index=False)"
   ]
  },
  {
   "cell_type": "markdown",
   "metadata": {},
   "source": [
    "# Extract data"
   ]
  },
  {
   "cell_type": "code",
   "execution_count": 21,
   "metadata": {},
   "outputs": [],
   "source": [
    "def extract_key_points_from_image(image_path: str, label: str, output_file: str, is_draw_landmarks=False):\n",
    "    # Initialize MediaPipe Pose once\n",
    "    mp_pose = mp.solutions.pose\n",
    "    with mp_pose.Pose(static_image_mode=True, model_complexity=1, smooth_landmarks=True) as pose:\n",
    "        \n",
    "        image_rgb, new_size = process_image(image_path)\n",
    "        results = pose.process(image_rgb)\n",
    "\n",
    "        if not results.pose_landmarks:\n",
    "            print(f\"Cannot detect pose in image {image_path}\")\n",
    "            return\n",
    "\n",
    "        # Rotate the keypoints\n",
    "        results.pose_landmarks = rotate_keypoints(results.pose_landmarks, image_path, new_size)\n",
    "\n",
    "        # Prepare data for CSV\n",
    "        columns_name = [\"label\"] + [f\"{landmark}_{axis}\" for landmark in IMPORTANT_LMS for axis in ['x', 'y', 'z']]\n",
    "        columns_value = [label]\n",
    "\n",
    "        for id, landmark in enumerate(results.pose_landmarks.landmark):\n",
    "            if mp_pose.PoseLandmark(id).name.lower() in IMPORTANT_LMS:\n",
    "                # Adjust keypoint coordinates\n",
    "                columns_value.extend([landmark.x, landmark.y, landmark.z])\n",
    "\n",
    "        df_key_points = pd.DataFrame([columns_value], columns=columns_name)\n",
    "\n",
    "        center = find_center_of_mass(df_key_points)\n",
    "        shifting = (0 - center[0], 0 - center[1])\n",
    "\n",
    "        for landmark in IMPORTANT_LMS:\n",
    "            df_key_points[f\"{landmark}_x\"] += shifting[0]\n",
    "            df_key_points[f\"{landmark}_y\"] += shifting[1]\n",
    "\n",
    "        # Calculate the scale value based on the distance between nose and hip\n",
    "        scale_value = calculate_scale_value(df_key_points)\n",
    "\n",
    "        # Scale keypoints\n",
    "        df_key_points = scale_keypoints(df_key_points, scale_value)\n",
    "\n",
    "        # Save keypoints to CSV\n",
    "        save_keypoints_to_csv(df_key_points, output_file)"
   ]
  },
  {
   "cell_type": "code",
   "execution_count": 22,
   "metadata": {},
   "outputs": [],
   "source": [
    "def auto_label_from_folder(folder_path: str, output_file: str, label: str = None):\n",
    "    \"\"\"\n",
    "    Tự động gán nhãn cho các ảnh trong thư mục\n",
    "    \"\"\" \n",
    "    # Traverse the folder and process each file\n",
    "    for root, _, files in os.walk(folder_path):\n",
    "        print(f\"Processing folder {root}\")\n",
    "        for file in files:\n",
    "            file_path = os.path.join(root, file)\n",
    "            label = label if label else os.path.basename(root)\n",
    "            extract_key_points_from_image(file_path, label, output_file)"
   ]
  },
  {
   "cell_type": "code",
   "execution_count": 23,
   "metadata": {},
   "outputs": [],
   "source": [
    "output_csv = \"../../data/data_testing_cleaned.csv\""
   ]
  },
  {
   "cell_type": "code",
   "execution_count": 24,
   "metadata": {},
   "outputs": [
    {
     "name": "stdout",
     "output_type": "stream",
     "text": [
      "Processing folder ../../data_images/testing/1_lie_on\n",
      "Cannot detect pose in image ../../data_images/testing/1_lie_on\\25.jpg\n",
      "Processing folder ../../data_images/testing/2_side\n",
      "Processing folder ../../data_images/testing/3_procumbent\n"
     ]
    }
   ],
   "source": [
    "auto_label_from_folder(\"../../data_images/testing/1_lie_on\", output_csv)\n",
    "\n",
    "auto_label_from_folder(\"../../data_images/testing/2_side\", output_csv)\n",
    "\n",
    "auto_label_from_folder(\"../../data_images/testing/3_procumbent\", output_csv)"
   ]
  },
  {
   "cell_type": "code",
   "execution_count": 25,
   "metadata": {},
   "outputs": [],
   "source": [
    "df = pd.read_csv(output_csv)"
   ]
  },
  {
   "cell_type": "code",
   "execution_count": 26,
   "metadata": {},
   "outputs": [
    {
     "data": {
      "text/plain": [
       "<Axes: xlabel='label', ylabel='count'>"
      ]
     },
     "execution_count": 26,
     "metadata": {},
     "output_type": "execute_result"
    },
    {
     "data": {
      "image/png": "[encoded data removed]",
      "text/plain": [
       "<Figure size 640x480 with 1 Axes>"
      ]
     },
     "metadata": {},
     "output_type": "display_data"
    }
   ],
   "source": [
    "sns.countplot(data=df, x=\"label\", palette=\"Set1\")"
   ]
  }
 ],
 "metadata": {
  "kernelspec": {
   "display_name": ".venv",
   "language": "python",
   "name": "python3"
  },
  "language_info": {
   "codemirror_mode": {
    "name": "ipython",
    "version": 3
   },
   "file_extension": ".py",
   "mimetype": "text/x-python",
   "name": "python",
   "nbconvert_exporter": "python",
   "pygments_lexer": "ipython3",
   "version": "3.11.3"
  }
 },
 "nbformat": 4,
 "nbformat_minor": 2
}
