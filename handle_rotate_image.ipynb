{
 "cells": [
  {
   "cell_type": "code",
   "execution_count": 109,
   "metadata": {},
   "outputs": [
    {
     "name": "stdout",
     "output_type": "stream",
     "text": [
      "The autoreload extension is already loaded. To reload it, use:\n",
      "  %reload_ext autoreload\n"
     ]
    }
   ],
   "source": [
    "# Thêm autoreload vào để tự động reload lại module nếu có thay đổi code trong module\n",
    "%load_ext autoreload\n",
    "%autoreload 2\n",
    "\n",
    "import mediapipe as mp\n",
    "import cv2\n",
    "import numpy as np\n",
    "import pandas as pd\n",
    "import matplotlib.pyplot as plt\n",
    "import seaborn as sns\n",
    "import os, sys\n",
    "import warnings\n",
    "\n",
    "# Thêm đường dẫn dẫn đến thư mục cha\n",
    "sys.path.append(os.path.abspath(\"..\"))\n",
    "warnings.filterwarnings(\"ignore\")\n",
    "\n",
    "# Drawing helpers\n",
    "mp_drawing = mp.solutions.drawing_utils\n",
    "mp_pose = mp.solutions.pose"
   ]
  },
  {
   "cell_type": "code",
   "execution_count": 110,
   "metadata": {},
   "outputs": [],
   "source": [
    "image_path = \"./data/test/9.jpg\""
   ]
  },
  {
   "cell_type": "code",
   "execution_count": 111,
   "metadata": {},
   "outputs": [],
   "source": [
    "def define_original_size(image_path: str) -> tuple[float, float]:\n",
    "    image = cv2.imread(image_path)\n",
    "    return image.shape[1], image.shape[0]"
   ]
  },
  {
   "cell_type": "code",
   "execution_count": 112,
   "metadata": {},
   "outputs": [],
   "source": [
    "origin_size = define_original_size(image_path)"
   ]
  },
  {
   "cell_type": "code",
   "execution_count": 113,
   "metadata": {},
   "outputs": [],
   "source": [
    "def draw_landmarks(mp_drawing, mp_pose, image : cv2, pose_landmarks):\n",
    "    \"\"\"\n",
    "    Vẽ landmarks lên ảnh\n",
    "    \"\"\"\n",
    "    mp_drawing.draw_landmarks(\n",
    "        image,\n",
    "        pose_landmarks,\n",
    "        mp_pose.POSE_CONNECTIONS,   \n",
    "        landmark_drawing_spec=mp_drawing.DrawingSpec(\n",
    "            color=(255, 0, 0),  # Màu sắc của các landmark\n",
    "            thickness=2,  # Độ dày của các đường nối landmark\n",
    "            circle_radius=2,  # Bán kính của các điểm landmark\n",
    "        ),\n",
    "        connection_drawing_spec=mp_drawing.DrawingSpec(\n",
    "            color=(0, 255, 0),  # Màu sắc của các đường nối\n",
    "            thickness=2,  # Độ dày của các đường nối\n",
    "        ),\n",
    "    )\n",
    "\n",
    "    return image"
   ]
  },
  {
   "cell_type": "code",
   "execution_count": 114,
   "metadata": {},
   "outputs": [],
   "source": [
    "def extract_key_points_from_image(image_path: str) -> np.array:\n",
    "    # Khởi tạo MediaPipe Pose\n",
    "    mp_pose = mp.solutions.pose\n",
    "    pose = mp_pose.Pose(\n",
    "        static_image_mode=True, model_complexity=1, smooth_landmarks=True\n",
    "    )\n",
    "\n",
    "    image = cv2.imread(image_path)\n",
    "\n",
    "    image_rgb = cv2.cvtColor(image, cv2.COLOR_BGR2RGB)\n",
    "\n",
    "    # Phát hiện pose\n",
    "    results = pose.process(image_rgb)\n",
    "\n",
    "    if results.pose_landmarks:\n",
    "        return results.pose_landmarks\n",
    "    else:\n",
    "        print(f\"Cannot detect pose in image {image_path}\")\n",
    "\n",
    "    pose.close()\n",
    "\n",
    "    return None"
   ]
  },
  {
   "cell_type": "code",
   "execution_count": 115,
   "metadata": {},
   "outputs": [],
   "source": [
    "result = extract_key_points_from_image(image_path)\n",
    "\n",
    "nose = result.landmark[0]"
   ]
  },
  {
   "cell_type": "code",
   "execution_count": 116,
   "metadata": {},
   "outputs": [
    {
     "data": {
      "text/plain": [
       "x: 0.163401842\n",
       "y: 0.479045957\n",
       "z: -0.598558903\n",
       "visibility: 0.992158651"
      ]
     },
     "execution_count": 116,
     "metadata": {},
     "output_type": "execute_result"
    }
   ],
   "source": [
    "nose"
   ]
  },
  {
   "cell_type": "markdown",
   "metadata": {},
   "source": [
    "# Main handle"
   ]
  },
  {
   "cell_type": "code",
   "execution_count": 117,
   "metadata": {},
   "outputs": [],
   "source": [
    "def calculate_phase_difference(OA: tuple, OB: tuple) -> float:\n",
    "    \"\"\"\n",
    "    Calculate the phase difference (in degrees) of vector OB relative to vector OA.\n",
    "    :param OA: A tuple representing the first vector (OA).\n",
    "    :param OB: A tuple representing the second vector (OB).\n",
    "    :return: Phase difference in degrees from 0 to 360.\n",
    "    \"\"\"\n",
    "    # Calculate the dot product and magnitudes\n",
    "    dot_product = OA[0] * OB[0] + OA[1] * OB[1]\n",
    "    norm_OA = np.sqrt(OA[0] ** 2 + OA[1] ** 2)\n",
    "    norm_OB = np.sqrt(OB[0] ** 2 + OB[1] ** 2)\n",
    "\n",
    "    # Calculate the cosine of the angle\n",
    "    cos_theta = dot_product / (norm_OA * norm_OB)\n",
    "    \n",
    "    # Ensure the value is within the valid range for arccos due to floating-point errors\n",
    "    cos_theta = np.clip(cos_theta, -1, 1)\n",
    "    \n",
    "    # Calculate the angle in radians\n",
    "    theta = np.arccos(cos_theta)\n",
    "    \n",
    "    # Calculate the cross product (only the z-component for 2D vectors)\n",
    "    cross_product = OA[0] * OB[1] - OA[1] * OB[0]\n",
    "    \n",
    "    # Adjust the angle based on the direction\n",
    "    if cross_product < 0:\n",
    "        theta = 2 * np.pi - theta\n",
    "\n",
    "    # Convert the angle to degrees\n",
    "    theta_degrees = np.degrees(theta)\n",
    "\n",
    "    return theta_degrees"
   ]
  },
  {
   "cell_type": "code",
   "execution_count": 118,
   "metadata": {},
   "outputs": [],
   "source": [
    "def define_angle(OA: tuple,OB : tuple) -> float:\n",
    "    dot_product = OA[0] * OB[0] + OA[1] * OB[1]\n",
    "    norm_OA = np.sqrt(OA[0] ** 2 + OA[1] ** 2)\n",
    "    norm_OB = np.sqrt(OB[0] ** 2 + OB[1] ** 2)\n",
    "\n",
    "    cos_theta = dot_product / (norm_OA * norm_OB)\n",
    "    theta = np.arccos(cos_theta)\n",
    "\n",
    "    return (theta)"
   ]
  },
  {
   "cell_type": "code",
   "execution_count": 119,
   "metadata": {},
   "outputs": [],
   "source": [
    "def rotate_point(point: tuple, center: tuple, angle: float, origin_size = (612, 408)) -> tuple:\n",
    "    x, y = point\n",
    "    cx, cy = center\n",
    "\n",
    "    x_new = (x - cx) * np.cos(np.radians(angle)) * origin_size[0] - (y - cy) * np.sin(np.radians(angle)) * origin_size[1] + cx * origin_size[0]\n",
    "    y_new = (x - cx) * np.sin(np.radians(angle)) * origin_size[0] + (y - cy) * np.cos(np.radians(angle)) * origin_size[1] + cy * origin_size[1]\n",
    "\n",
    "    return x_new / origin_size[0], y_new / origin_size[1]"
   ]
  },
  {
   "cell_type": "code",
   "execution_count": 120,
   "metadata": {},
   "outputs": [],
   "source": [
    "def rotate_keypoints(keypoints, image_path: str, origin_size = (612, 408)) -> np.array:\n",
    "    image = cv2.imread(image_path)\n",
    "    if keypoints:\n",
    "            draw_landmarks(mp_drawing, mp_pose, image, keypoints)\n",
    "            last_dot_index = image_path.rfind(\".\") # Tìm vị trí cuối cùng của dấu chấm\n",
    "            image_path_output = image_path[:last_dot_index] + \"_output\" + image_path[last_dot_index:] # Đặt tên cho ảnh output\n",
    "            cv2.imwrite(image_path_output, image) # Lưu ảnh đã vẽ landmark\n",
    "\n",
    "    left_shoulder = keypoints.landmark[11]\n",
    "    right_shoulder = keypoints.landmark[12]\n",
    "    left_hip = keypoints.landmark[23]\n",
    "    right_hip = keypoints.landmark[24]\n",
    "\n",
    "    center_shoulder = (left_shoulder.x + right_shoulder.x) / 2, (left_shoulder.y + right_shoulder.y) / 2\n",
    "    center_hip = (left_hip.x + right_hip.x) / 2, (left_hip.y + right_hip.y) / 2\n",
    "\n",
    "    center = (center_shoulder[0] + center_hip[0]) / 2, (center_shoulder[1] + center_hip[1]) / 2\n",
    "\n",
    "    O_center_shoulder = (center_shoulder[0] - center[0], center_shoulder[1] - center[1])\n",
    "    Oy = (0, -1)\n",
    "\n",
    "    theta = calculate_phase_difference(O_center_shoulder, Oy)\n",
    "\n",
    "    print(f\"Angle: {theta}\")\n",
    "\n",
    "    # rotate each key point\n",
    "    for point in keypoints.landmark:\n",
    "        point_rotated = rotate_point((point.x, point.y), center, theta, origin_size)\n",
    "        point.x = point_rotated[0]\n",
    "        point.y = point_rotated[1]\n",
    "\n",
    "    return keypoints"
   ]
  },
  {
   "cell_type": "code",
   "execution_count": 121,
   "metadata": {},
   "outputs": [
    {
     "name": "stdout",
     "output_type": "stream",
     "text": [
      "Angle: 83.53052472193728\n"
     ]
    },
    {
     "data": {
      "text/plain": [
       "True"
      ]
     },
     "execution_count": 121,
     "metadata": {},
     "output_type": "execute_result"
    }
   ],
   "source": [
    "# draw rotated landmarks\n",
    "image = cv2.imread(image_path)\n",
    "\n",
    "image_rotated = draw_landmarks(mp_drawing, mp_pose, image, rotate_keypoints(extract_key_points_from_image(image_path), image_path, origin_size))\n",
    "\n",
    "# save image\n",
    "last_dot_index = image_path.rfind(\".\") # Tìm vị trí cuối cùng của dấu chấm\n",
    "image_path_output = image_path[:last_dot_index] + \"_rotated\" + image_path[last_dot_index:] # Đặt tên cho ảnh output\n",
    "cv2.imwrite(image_path_output, image_rotated) # Lưu ảnh đã vẽ landmark"
   ]
  },
  {
   "cell_type": "code",
   "execution_count": 122,
   "metadata": {},
   "outputs": [
    {
     "data": {
      "text/plain": [
       "90.0"
      ]
     },
     "execution_count": 122,
     "metadata": {},
     "output_type": "execute_result"
    }
   ],
   "source": [
    "import numpy as np\n",
    "\n",
    "def calculate_phase_difference(OA: tuple, OB: tuple) -> float:\n",
    "    \"\"\"\n",
    "    Calculate the phase difference (in degrees) of vector OB relative to vector OA.\n",
    "    :param OA: A tuple representing the first vector (OA).\n",
    "    :param OB: A tuple representing the second vector (OB).\n",
    "    :return: Phase difference in degrees from 0 to 360.\n",
    "    \"\"\"\n",
    "    # Calculate the dot product and magnitudes\n",
    "    dot_product = OA[0] * OB[0] + OA[1] * OB[1]\n",
    "    norm_OA = np.sqrt(OA[0] ** 2 + OA[1] ** 2)\n",
    "    norm_OB = np.sqrt(OB[0] ** 2 + OB[1] ** 2)\n",
    "\n",
    "    # Calculate the cosine of the angle\n",
    "    cos_theta = dot_product / (norm_OA * norm_OB)\n",
    "    \n",
    "    # Ensure the value is within the valid range for arccos due to floating-point errors\n",
    "    cos_theta = np.clip(cos_theta, -1, 1)\n",
    "    \n",
    "    # Calculate the angle in radians\n",
    "    theta = np.arccos(cos_theta)\n",
    "    \n",
    "    # Calculate the cross product (only the z-component for 2D vectors)\n",
    "    cross_product = OA[0] * OB[1] - OA[1] * OB[0]\n",
    "    \n",
    "    # Adjust the angle based on the direction\n",
    "    if cross_product < 0:\n",
    "        theta = 2 * np.pi - theta\n",
    "\n",
    "    # Convert the angle to degrees\n",
    "    theta_degrees = np.degrees(theta)\n",
    "\n",
    "    return theta_degrees\n",
    "\n",
    "# Define the vectors\n",
    "OA = (0, -1)\n",
    "OB = (1, 0)  # Example vector\n",
    "\n",
    "# Calculate the phase difference in degrees\n",
    "phase_difference = calculate_phase_difference(OA, OB)\n",
    "phase_difference\n"
   ]
  }
 ],
 "metadata": {
  "kernelspec": {
   "display_name": ".venv",
   "language": "python",
   "name": "python3"
  },
  "language_info": {
   "codemirror_mode": {
    "name": "ipython",
    "version": 3
   },
   "file_extension": ".py",
   "mimetype": "text/x-python",
   "name": "python",
   "nbconvert_exporter": "python",
   "pygments_lexer": "ipython3",
   "version": "3.11.3"
  }
 },
 "nbformat": 4,
 "nbformat_minor": 2
}
