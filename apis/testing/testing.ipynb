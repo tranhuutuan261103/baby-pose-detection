{
 "cells": [
  {
   "cell_type": "code",
   "execution_count": 165,
   "metadata": {},
   "outputs": [],
   "source": [
    "import cv2\n",
    "import os\n",
    "import glob\n",
    "import sys\n",
    "import time\n",
    "import warnings\n",
    "\n",
    "warnings.filterwarnings('ignore')\n",
    "sys.path.append(os.path.abspath(\"..\"))\n",
    "from services.baby_pose_detection_service import BabyPoseDetectionService"
   ]
  },
  {
   "cell_type": "code",
   "execution_count": 166,
   "metadata": {},
   "outputs": [],
   "source": [
    "def testing(path: str, id: int, output_path: str):\n",
    "    count = 0\n",
    "    total = 0\n",
    "\n",
    "    # Lấy tất cả các file ảnh trong thư mục data/1_lie_on\n",
    "    image_paths = glob.glob(path)\n",
    "\n",
    "    with open(f\"{output_path}\", \"a\") as f:\n",
    "        for image_path in image_paths:\n",
    "            total += 1\n",
    "            start_time = time.time()\n",
    "            image = cv2.imread(image_path)  # Đọc ảnh từ đường dẫn file\n",
    "            \n",
    "            try:\n",
    "                result = BabyPoseDetectionService().predict(image)\n",
    "                if result[\"id\"] == id:\n",
    "                    count += 1\n",
    "                else:\n",
    "                    print(f\"Error with id {result['id']} in file {image_path}\")\n",
    "            except Exception as e:\n",
    "                # print(e)\n",
    "                continue\n",
    "\n",
    "            end_time = time.time()\n",
    "            execution_time = end_time - start_time\n",
    "            \n",
    "            f.write(f\"{execution_time:.4f}\\n\")\n",
    "\n",
    "    print(f\"Accuracy: {count}/{total} = {count/total*100:.2f}%\")"
   ]
  },
  {
   "cell_type": "code",
   "execution_count": 167,
   "metadata": {},
   "outputs": [
    {
     "name": "stdout",
     "output_type": "stream",
     "text": [
      "Error with id 1 in file ../../data/1_lie_on\\106.jpg\n",
      "Error with id 1 in file ../../data/1_lie_on\\130.jpg\n",
      "Error with id 1 in file ../../data/1_lie_on\\152.jpg\n",
      "Error with id 1 in file ../../data/1_lie_on\\44.jpg\n",
      "Accuracy: 150/156 = 96.15%\n"
     ]
    }
   ],
   "source": [
    "testing(\"../../data/1_lie_on/*.jpg\", 0, \"zip_keypoints.txt\")"
   ]
  },
  {
   "cell_type": "code",
   "execution_count": 168,
   "metadata": {},
   "outputs": [
    {
     "name": "stdout",
     "output_type": "stream",
     "text": [
      "Error with id 0 in file ../../data/2_side\\123.jpg\n",
      "Error with id 2 in file ../../data/2_side\\17.jpg\n",
      "Error with id 0 in file ../../data/2_side\\33.jpg\n",
      "Error with id 0 in file ../../data/2_side\\53.jpg\n",
      "Error with id 2 in file ../../data/2_side\\62.jpg\n",
      "Error with id 0 in file ../../data/2_side\\78.jpg\n",
      "Accuracy: 144/154 = 93.51%\n"
     ]
    }
   ],
   "source": [
    "testing(\"../../data/2_side/*.jpg\", 1, \"zip_keypoints.txt\")"
   ]
  },
  {
   "cell_type": "code",
   "execution_count": 169,
   "metadata": {},
   "outputs": [
    {
     "name": "stdout",
     "output_type": "stream",
     "text": [
      "Error with id 0 in file ../../data/3_procumbent\\103.jpg\n",
      "Error with id 0 in file ../../data/3_procumbent\\108.jpg\n",
      "Error with id 0 in file ../../data/3_procumbent\\120.jpg\n",
      "Error with id 1 in file ../../data/3_procumbent\\137.jpg\n",
      "Error with id 1 in file ../../data/3_procumbent\\142.jpg\n",
      "Error with id 0 in file ../../data/3_procumbent\\48.jpg\n",
      "Error with id 0 in file ../../data/3_procumbent\\63.jpg\n",
      "Error with id 0 in file ../../data/3_procumbent\\64.jpg\n",
      "Error with id 0 in file ../../data/3_procumbent\\66.jpg\n",
      "Error with id 0 in file ../../data/3_procumbent\\81.jpg\n",
      "Accuracy: 124/149 = 83.22%\n"
     ]
    }
   ],
   "source": [
    "testing(\"../../data/3_procumbent/*.jpg\", 2, \"zip_keypoints.txt\")"
   ]
  }
 ],
 "metadata": {
  "kernelspec": {
   "display_name": ".venv",
   "language": "python",
   "name": "python3"
  },
  "language_info": {
   "codemirror_mode": {
    "name": "ipython",
    "version": 3
   },
   "file_extension": ".py",
   "mimetype": "text/x-python",
   "name": "python",
   "nbconvert_exporter": "python",
   "pygments_lexer": "ipython3",
   "version": "3.11.3"
  }
 },
 "nbformat": 4,
 "nbformat_minor": 2
}
